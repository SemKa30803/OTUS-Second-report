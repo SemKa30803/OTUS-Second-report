{
 "cells": [
  {
   "cell_type": "code",
   "execution_count": null,
   "outputs": [],
   "source": [
    "import cv2\n",
    "import numpy as np"
   ],
   "metadata": {
    "collapsed": false
   }
  },
  {
   "cell_type": "code",
   "execution_count": null,
   "outputs": [],
   "source": [
    "def getSubImage(src, rect): # получение изображения из повёрнутого бокса\n",
    "    # Get center, size, and angle from rect\n",
    "    center, size, theta = rect\n",
    "    # Convert to int\n",
    "    center, size = tuple(map(int, center)), tuple(map(int, size))\n",
    "    # Get rotation matrix for rectangle\n",
    "    M = cv2.getRotationMatrix2D( center, theta, 1)\n",
    "    # Perform rotation on src image\n",
    "    dst = cv2.warpAffine(src, M, src.shape[:2])\n",
    "    out = cv2.getRectSubPix(dst, size, center)\n",
    "    return out"
   ],
   "metadata": {
    "collapsed": false
   }
  },
  {
   "cell_type": "code",
   "execution_count": null,
   "outputs": [],
   "source": [
    "# костыль\n",
    "if __name__ == '__main__':\n",
    "    def nothing(*arg):\n",
    "        pass\n",
    "\n",
    "cap = cv2.VideoCapture(0)\n",
    "cv2.namedWindow(\"result\")  # создаем главное окно\n",
    "crange = [0, 0, 0, 0, 0, 0]\n",
    "\n",
    "# значения маски, подбираются вручную\n",
    "h1 = ... * 180 / 360\n",
    "s1 = ...\n",
    "v1 = ...\n",
    "h2 = ... * 180 / 360\n",
    "s2 = ...\n",
    "v2 = ..."
   ],
   "metadata": {
    "collapsed": false
   }
  },
  {
   "cell_type": "code",
   "execution_count": null,
   "metadata": {
    "collapsed": true
   },
   "outputs": [],
   "source": [
    "# основной цикл захвата и обработки изображения\n",
    "\n",
    "while True:\n",
    "    ret, img = cap.read()\n",
    "    hsv = cv2.cvtColor(img, cv2.COLOR_BGR2HSV)\n",
    "\n",
    "    # формируем начальный и конечный цвет фильтра\n",
    "    h_min = np.array((h1, s1, v1), np.uint8)\n",
    "    h_max = np.array((h2, s2, v2), np.uint8)\n",
    "\n",
    "    # накладываем фильтр на кадр в модели HSV\n",
    "    thresh = cv2.inRange(hsv, h_min, h_max)\n",
    "    cv2.imshow('mask', thresh)\n",
    "\n",
    "    result_mask = cv2.bitwise_and(img, img, mask=thresh)\n",
    "\n",
    "    gray_test_image = cv2.cvtColor(result_mask, cv2.COLOR_BGR2GRAY)\n",
    "    gray_test_image = cv2.bilateralFilter(gray_test_image, 5, 75, 75)\n",
    "\n",
    "    # детектирование краёв\n",
    "    edge = cv2.Canny(gray_test_image, 200, 300, 15)\n",
    "    contours, hierarchy = cv2.findContours(edge, cv2.RETR_EXTERNAL, cv2.CHAIN_APPROX_SIMPLE)[-2:]\n",
    "\n",
    "    max_id = 0\n",
    "    for i in range(len(contours)):\n",
    "        if cv2.contourArea(contours[i]) > cv2.contourArea(contours[max_id]):\n",
    "            max_id = i\n",
    "\n",
    "    rect = cv2.minAreaRect(contours[max_id])\n",
    "    box = np.int0(cv2.boxPoints(rect))\n",
    "    cv2.drawContours(img, [box], 0, (0, 0, 255), 2)\n",
    "\n",
    "    cv2.imshow(\"edge\", edge)\n",
    "    cv2.imshow(\"camera\", img)\n",
    "    cv2.imshow(\"result\", getSubImage(img, rect))\n",
    "\n",
    "    if cv2.waitKey(10) == 27:  # Esc\n",
    "        break\n",
    "cap.release()\n",
    "cv2.destroyAllWindows()\n"
   ]
  },
  {
   "cell_type": "markdown",
   "source": [
    "![ex1](color.jpg \"Пример запуска на разнотонном участке\")"
   ],
   "metadata": {
    "collapsed": false
   }
  },
  {
   "cell_type": "markdown",
   "source": [
    "![ex1](white.jpg \"Пример запуска на схожем оттенке\")"
   ],
   "metadata": {
    "collapsed": false
   }
  },
  {
   "cell_type": "code",
   "execution_count": null,
   "outputs": [],
   "source": [],
   "metadata": {
    "collapsed": false
   }
  }
 ],
 "metadata": {
  "kernelspec": {
   "display_name": "Python 3",
   "language": "python",
   "name": "python3"
  },
  "language_info": {
   "codemirror_mode": {
    "name": "ipython",
    "version": 2
   },
   "file_extension": ".py",
   "mimetype": "text/x-python",
   "name": "python",
   "nbconvert_exporter": "python",
   "pygments_lexer": "ipython2",
   "version": "2.7.6"
  }
 },
 "nbformat": 4,
 "nbformat_minor": 0
}
