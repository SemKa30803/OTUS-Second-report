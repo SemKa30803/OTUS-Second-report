{
 "cells": [
  {
   "cell_type": "code",
   "execution_count": 3,
   "metadata": {
    "colab": {
     "base_uri": "https://localhost:8080/"
    },
    "id": "m4TglDGVLuHf",
    "outputId": "f41330f6-439b-4a9a-a821-a5a17aa0daca"
   },
   "outputs": [
    {
     "name": "stderr",
     "output_type": "stream",
     "text": [
      "Copying files: 12160 files [00:02, 5165.96 files/s]\n"
     ]
    }
   ],
   "source": [
    "import splitfolders\n",
    "input_folder = \"/content/skat2023/Test OCR/full_dataset\"\n",
    "output = \"./dataset\" \n",
    "\n",
    "splitfolders.ratio(input_folder, output=output, seed=42, ratio=(.8, .1, .1))"
   ]
  },
  {
   "cell_type": "code",
   "execution_count": 4,
   "metadata": {
    "id": "tW6ugRuCoIYC"
   },
   "outputs": [],
   "source": [
    "from tensorflow.keras.preprocessing.image import #Расширение данных\n",
    "from tensorflow.keras.preprocessing import image\n",
    "from tensorflow.keras.models import Sequential\n",
    "from tensorflow.keras.layers import #Добавление слоев\n",
    "from keras.layers import #Добавление слоев\n",
    "\n",
    "\n",
    "%matplotlib inline "
   ]
  },
  {
   "cell_type": "code",
   "execution_count": 5,
   "metadata": {
    "id": "iUFU9K_sztq5"
   },
   "outputs": [],
   "source": [
    "# Каталог с данными для обучения\n",
    "train_dir = '/content/dataset/train'\n",
    "# Каталог с данными для проверки\n",
    "val_dir = '/content/dataset/val'\n",
    "# Каталог с данными для тестирования\n",
    "test_dir = '/content/dataset/test'\n",
    "# Размеры изображения\n",
    "img_size = ...\n",
    "img_width, img_height = img_size, img_size\n",
    "# Размерность тензора на основе изображения для входных данных в нейронную сеть\n",
    "# backend Tensorflow, channels_last\n",
    "input_shape = (img_width, img_height, 3)\n",
    "# Размер мини-выборки\n",
    "batch_size = ...\n",
    "\n"
   ]
  },
  {
   "cell_type": "code",
   "execution_count": 6,
   "metadata": {
    "id": "XARbZt7Bz5W7"
   },
   "outputs": [],
   "source": [
    "train_datagen = #Расширение данных"
   ]
  },
  {
   "cell_type": "code",
   "execution_count": 7,
   "metadata": {
    "colab": {
     "base_uri": "https://localhost:8080/"
    },
    "id": "i40pCjL-z5Ut",
    "outputId": "08aa9c5c-5ac6-4472-995c-4d90be6fd911"
   },
   "outputs": [
    {
     "name": "stdout",
     "output_type": "stream",
     "text": [
      "Found 9728 images belonging to 38 classes.\n"
     ]
    }
   ],
   "source": [
    "train_generator = #Расширение данных"
   ]
  },
  {
   "cell_type": "code",
   "execution_count": 9,
   "metadata": {
    "colab": {
     "base_uri": "https://localhost:8080/"
    },
    "id": "3mDoeg9wz5Pj",
    "outputId": "0bf179a2-47b6-4f0a-f0a0-0e5e2ea593fc"
   },
   "outputs": [
    {
     "name": "stdout",
     "output_type": "stream",
     "text": [
      "Found 1216 images belonging to 38 classes.\n"
     ]
    }
   ],
   "source": [
    "val_generator = #Расширение данных"
   ]
  },
  {
   "cell_type": "code",
   "execution_count": 10,
   "metadata": {
    "colab": {
     "base_uri": "https://localhost:8080/"
    },
    "id": "VBcSgQmF91sy",
    "outputId": "12e553d9-2673-473b-bdb3-d08717f093b7"
   },
   "outputs": [
    {
     "name": "stdout",
     "output_type": "stream",
     "text": [
      "Found 1216 images belonging to 38 classes.\n"
     ]
    }
   ],
   "source": [
    "test_generator = #Расширение данных"
   ]
  },
  {
   "cell_type": "code",
   "execution_count": 11,
   "metadata": {
    "colab": {
     "base_uri": "https://localhost:8080/"
    },
    "id": "1YTqKfkopsuS",
    "outputId": "57493053-89ff-4161-d8a6-2da92f571c97"
   },
   "outputs": [
    {
     "name": "stderr",
     "output_type": "stream",
     "text": [
      "/usr/local/lib/python3.9/dist-packages/keras/optimizers/legacy/rmsprop.py:143: UserWarning: The `lr` argument is deprecated, use `learning_rate` instead.\n",
      "  super().__init__(name, **kwargs)\n"
     ]
    }
   ],
   "source": [
    "model = Sequential()\n",
    "#Описание модели"
   ]
  },
  {
   "cell_type": "code",
   "execution_count": 13,
   "metadata": {
    "id": "yC_9lD1EBmvd"
   },
   "outputs": [],
   "source": [
    "epochs = #Количество эпох"
   ]
  },
  {
   "cell_type": "code",
   "execution_count": 14,
   "metadata": {
    "colab": {
     "base_uri": "https://localhost:8080/"
    },
    "id": "DTvDkjcz0xS3",
    "outputId": "76ee829f-f352-485b-fa19-67867feeea74"
   },
   "outputs": [
    {
     "name": "stderr",
     "output_type": "stream",
     "text": [
      "<ipython-input-14-5bf4b0fd284b>:1: UserWarning: `Model.fit_generator` is deprecated and will be removed in a future version. Please use `Model.fit`, which supports generators.\n",
      "  history = model.fit_generator(\n"
     ]
    },
    {
     "name": "stdout",
     "output_type": "stream",
     "text": [
      "Epoch 1/30\n",
      "65/65 [==============================] - 31s 307ms/step - loss: 3.9258 - accuracy: 0.0269 - val_loss: 3.6224 - val_accuracy: 0.0267\n",
      "Epoch 2/30\n",
      "65/65 [==============================] - 14s 216ms/step - loss: 3.5061 - accuracy: 0.0685 - val_loss: 2.8212 - val_accuracy: 0.2908\n",
      "Epoch 3/30\n",
      "65/65 [==============================] - 14s 217ms/step - loss: 3.0032 - accuracy: 0.1740 - val_loss: 1.7485 - val_accuracy: 0.5308\n",
      "Epoch 4/30\n",
      "65/65 [==============================] - 14s 212ms/step - loss: 2.3605 - accuracy: 0.3374 - val_loss: 1.0447 - val_accuracy: 0.7025\n",
      "Epoch 5/30\n",
      "65/65 [==============================] - 13s 206ms/step - loss: 1.7453 - accuracy: 0.4856 - val_loss: 0.6044 - val_accuracy: 0.8542\n",
      "Epoch 6/30\n",
      "65/65 [==============================] - 15s 229ms/step - loss: 1.3282 - accuracy: 0.5971 - val_loss: 0.6576 - val_accuracy: 0.8325\n",
      "Epoch 7/30\n",
      "65/65 [==============================] - 14s 218ms/step - loss: 1.0366 - accuracy: 0.6830 - val_loss: 0.4827 - val_accuracy: 0.8592\n",
      "Epoch 8/30\n",
      "65/65 [==============================] - 15s 230ms/step - loss: 0.8561 - accuracy: 0.7301 - val_loss: 0.4838 - val_accuracy: 0.8642\n",
      "Epoch 9/30\n",
      "65/65 [==============================] - 14s 213ms/step - loss: 0.7475 - accuracy: 0.7638 - val_loss: 0.2647 - val_accuracy: 0.9333\n",
      "Epoch 10/30\n",
      "65/65 [==============================] - 14s 213ms/step - loss: 0.6489 - accuracy: 0.7920 - val_loss: 0.2102 - val_accuracy: 0.9450\n",
      "Epoch 11/30\n",
      "65/65 [==============================] - 14s 212ms/step - loss: 0.6006 - accuracy: 0.8158 - val_loss: 0.2227 - val_accuracy: 0.9408\n",
      "Epoch 12/30\n",
      "65/65 [==============================] - 14s 212ms/step - loss: 0.4915 - accuracy: 0.8429 - val_loss: 0.2962 - val_accuracy: 0.9158\n",
      "Epoch 13/30\n",
      "65/65 [==============================] - 14s 214ms/step - loss: 0.4590 - accuracy: 0.8522 - val_loss: 0.1809 - val_accuracy: 0.9483\n",
      "Epoch 14/30\n",
      "65/65 [==============================] - 14s 209ms/step - loss: 0.4207 - accuracy: 0.8704 - val_loss: 0.2377 - val_accuracy: 0.9300\n",
      "Epoch 15/30\n",
      "65/65 [==============================] - 14s 216ms/step - loss: 0.4033 - accuracy: 0.8769 - val_loss: 0.2271 - val_accuracy: 0.9425\n",
      "Epoch 16/30\n",
      "65/65 [==============================] - 14s 211ms/step - loss: 0.3646 - accuracy: 0.8857 - val_loss: 0.1809 - val_accuracy: 0.9450\n",
      "Epoch 17/30\n",
      "65/65 [==============================] - 14s 213ms/step - loss: 0.3452 - accuracy: 0.8918 - val_loss: 0.2039 - val_accuracy: 0.9475\n",
      "Epoch 18/30\n",
      "65/65 [==============================] - 14s 215ms/step - loss: 0.3223 - accuracy: 0.8946 - val_loss: 0.1552 - val_accuracy: 0.9500\n",
      "Epoch 19/30\n",
      "65/65 [==============================] - 14s 221ms/step - loss: 0.3024 - accuracy: 0.9045 - val_loss: 0.2528 - val_accuracy: 0.9258\n",
      "Epoch 20/30\n",
      "65/65 [==============================] - 14s 212ms/step - loss: 0.2994 - accuracy: 0.9077 - val_loss: 0.1402 - val_accuracy: 0.9575\n",
      "Epoch 21/30\n",
      "65/65 [==============================] - 14s 211ms/step - loss: 0.2783 - accuracy: 0.9124 - val_loss: 0.1621 - val_accuracy: 0.9550\n",
      "Epoch 22/30\n",
      "65/65 [==============================] - 14s 210ms/step - loss: 0.2616 - accuracy: 0.9178 - val_loss: 0.1977 - val_accuracy: 0.9433\n",
      "Epoch 23/30\n",
      "65/65 [==============================] - 14s 213ms/step - loss: 0.2580 - accuracy: 0.9192 - val_loss: 0.1600 - val_accuracy: 0.9517\n",
      "Epoch 24/30\n",
      "65/65 [==============================] - 14s 210ms/step - loss: 0.2538 - accuracy: 0.9206 - val_loss: 0.1259 - val_accuracy: 0.9692\n",
      "Epoch 25/30\n",
      "65/65 [==============================] - 14s 222ms/step - loss: 0.2430 - accuracy: 0.9247 - val_loss: 0.1578 - val_accuracy: 0.9608\n",
      "Epoch 26/30\n",
      "65/65 [==============================] - 15s 230ms/step - loss: 0.2280 - accuracy: 0.9250 - val_loss: 0.1659 - val_accuracy: 0.9508\n",
      "Epoch 27/30\n",
      "65/65 [==============================] - 14s 213ms/step - loss: 0.2197 - accuracy: 0.9344 - val_loss: 0.1394 - val_accuracy: 0.9608\n",
      "Epoch 28/30\n",
      "65/65 [==============================] - 14s 213ms/step - loss: 0.2090 - accuracy: 0.9362 - val_loss: 0.1316 - val_accuracy: 0.9600\n",
      "Epoch 29/30\n",
      "65/65 [==============================] - 15s 225ms/step - loss: 0.2105 - accuracy: 0.9374 - val_loss: 0.1390 - val_accuracy: 0.9567\n",
      "Epoch 30/30\n",
      "65/65 [==============================] - 14s 215ms/step - loss: 0.2016 - accuracy: 0.9378 - val_loss: 0.1171 - val_accuracy: 0.9608\n"
     ]
    }
   ],
   "source": [
    "history = model.fit(...) #ОБучение"
   ]
  },
  {
   "cell_type": "code",
   "execution_count": 15,
   "metadata": {
    "colab": {
     "base_uri": "https://localhost:8080/",
     "height": 699
    },
    "id": "hXjdGMvtAwxm",
    "outputId": "a9dc2652-b56f-4f0f-d256-2fdd9b8090ca"
   },
   "outputs": [
    {
     "data": {
      "image/png": "[encoded data removed]",
      "text/plain": [
       "<Figure size 800x800 with 2 Axes>"
      ]
     },
     "metadata": {},
     "output_type": "display_data"
    }
   ],
   "source": [
    "acc = history.history['accuracy']\n",
    "val_acc = history.history['val_accuracy']\n",
    "\n",
    "loss = history.history['loss']\n",
    "val_loss = history.history['val_loss']\n",
    "\n",
    "epochs_range = range(epochs)\n",
    "\n",
    "plt.figure(figsize=(8, 8))\n",
    "plt.subplot(1, 2, 1)\n",
    "plt.plot(epochs_range, acc, label='Training Accuracy')\n",
    "plt.plot(epochs_range, val_acc, label='Validation Accuracy')\n",
    "plt.legend(loc='lower right')\n",
    "plt.title('Training and Validation Accuracy')\n",
    "\n",
    "plt.subplot(1, 2, 2)\n",
    "plt.plot(epochs_range, loss, label='Training Loss')\n",
    "plt.plot(epochs_range, val_loss, label='Validation Loss')\n",
    "plt.legend(loc='upper right')\n",
    "plt.title('Training and Validation Loss')\n",
    "plt.show()"
   ]
  },
  {
   "cell_type": "code",
   "execution_count": 16,
   "metadata": {
    "id": "0HqsT53b1JuM"
   },
   "outputs": [],
   "source": [
    "scores = 0"
   ]
  },
  {
   "cell_type": "code",
   "execution_count": 17,
   "metadata": {
    "colab": {
     "base_uri": "https://localhost:8080/"
    },
    "id": "7FuTMy9m1KN2",
    "outputId": "1da9c02f-4b2c-49ea-8e62-3fa632fd6bad"
   },
   "outputs": [
    {
     "name": "stderr",
     "output_type": "stream",
     "text": [
      "<ipython-input-17-691cfd0cce61>:2: UserWarning: `Model.evaluate_generator` is deprecated and will be removed in a future version. Please use `Model.evaluate`, which supports generators.\n",
      "  scores += model.evaluate_generator(test_generator, 5)[1]\n"
     ]
    },
    {
     "name": "stdout",
     "output_type": "stream",
     "text": [
      "Аккуратность на тестовых данных: 97.95%\n"
     ]
    }
   ],
   "source": [
    "for i in range(100):\n",
    "  scores += model.evaluatе(...) #Оценка точности\n",
    "\n",
    "print(\"Аккуратность на тестовых данных: %.2f%%\" % (scores))"
   ]
  },
  {
   "cell_type": "code",
   "execution_count": 18,
   "metadata": {
    "id": "CPxxAoHJ69Ol"
   },
   "outputs": [],
   "source": [
    "import numpy as np"
   ]
  },
  {
   "cell_type": "code",
   "execution_count": 19,
   "metadata": {
    "id": "bggW_Lu7AulL"
   },
   "outputs": [],
   "source": [
    "import cv2"
   ]
  },
  {
   "cell_type": "code",
   "execution_count": 20,
   "metadata": {
    "id": "wDZemyXGBAh-"
   },
   "outputs": [],
   "source": [
    "img = cv2.imread('/content/dataset/test/0/1329.png')"
   ]
  },
  {
   "cell_type": "code",
   "execution_count": 21,
   "metadata": {
    "id": "qryiFz5HBqqV"
   },
   "outputs": [],
   "source": [
    "img = (np.expand_dims (img, 0))"
   ]
  },
  {
   "cell_type": "code",
   "execution_count": 23,
   "metadata": {
    "colab": {
     "base_uri": "https://localhost:8080/",
     "height": 678
    },
    "id": "RN19ba22Rk9u",
    "outputId": "71ba7549-d579-4d3b-b15d-5bbe76fe08d8"
   },
   "outputs": [
    {
     "data": {
      "text/plain": [
       "(-0.5, 51.5, 51.5, -0.5)"
      ]
     },
     "execution_count": 23,
     "metadata": {},
     "output_type": "execute_result"
    },
    {
     "data": {
      "image/png": "[encoded data removed]",
      "text/plain": [
       "<Figure size 800x800 with 2 Axes>"
      ]
     },
     "metadata": {},
     "output_type": "display_data"
    }
   ],
   "source": [
    "import tensorflow\n",
    "plt.figure(figsize=(8, 8))\n",
    "plt.imshow(tensorflow.squeeze(img))\n",
    "plt.colorbar()\n",
    "plt.axis(\"off\")"
   ]
  },
  {
   "cell_type": "code",
   "execution_count": 24,
   "metadata": {
    "colab": {
     "base_uri": "https://localhost:8080/"
    },
    "id": "x1WgCJOGAxYs",
    "outputId": "c84f9df1-674b-4e48-bb9c-2ca113a22528"
   },
   "outputs": [
    {
     "name": "stdout",
     "output_type": "stream",
     "text": [
      "1/1 [==============================] - 0s 249ms/step\n"
     ]
    },
    {
     "data": {
      "text/plain": [
       "0"
      ]
     },
     "execution_count": 24,
     "metadata": {},
     "output_type": "execute_result"
    }
   ],
   "source": [
    "np.argmax(model.predict(img)[0])"
   ]
  }
 ],
 "metadata": {
  "accelerator": "GPU",
  "colab": {
   "provenance": []
  },
  "gpuClass": "standard",
  "kernelspec": {
   "display_name": "Python 3 (ipykernel)",
   "language": "python",
   "name": "python3"
  },
  "language_info": {
   "codemirror_mode": {
    "name": "ipython",
    "version": 3
   },
   "file_extension": ".py",
   "mimetype": "text/x-python",
   "name": "python",
   "nbconvert_exporter": "python",
   "pygments_lexer": "ipython3",
   "version": "3.9.11"
  }
 },
 "nbformat": 4,
 "nbformat_minor": 4
}
